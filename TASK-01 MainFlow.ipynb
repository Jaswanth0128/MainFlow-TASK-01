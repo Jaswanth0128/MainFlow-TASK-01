{
 "cells": [
  {
   "cell_type": "markdown",
   "id": "0ce3deb1-8642-4a5f-91f5-154830290be8",
   "metadata": {},
   "source": [
    "LIST OPERATIONS"
   ]
  },
  {
   "cell_type": "code",
   "execution_count": 1,
   "id": "5a186f9f-38f7-4a37-927a-c0de14507e70",
   "metadata": {},
   "outputs": [],
   "source": [
    "my_list=[1,2,3,4,5]"
   ]
  },
  {
   "cell_type": "code",
   "execution_count": 2,
   "id": "74dfc5f6-eb10-47dc-b827-4838ef270cef",
   "metadata": {},
   "outputs": [],
   "source": [
    "my_list.append(6)"
   ]
  },
  {
   "cell_type": "code",
   "execution_count": 12,
   "id": "dec04661-1546-4b2a-aeba-6ef979dfa1e8",
   "metadata": {},
   "outputs": [
    {
     "name": "stdout",
     "output_type": "stream",
     "text": [
      "[10, 2, 4, 5, 6]\n"
     ]
    }
   ],
   "source": [
    "print(my_list)"
   ]
  },
  {
   "cell_type": "code",
   "execution_count": 4,
   "id": "5ea698d3-ae12-4f6d-a7a1-f685b2934928",
   "metadata": {},
   "outputs": [],
   "source": [
    "my_list.remove(3)"
   ]
  },
  {
   "cell_type": "markdown",
   "id": "d34b9fc2-81c3-454a-980c-3291ad5604d5",
   "metadata": {},
   "source": [
    "my_list[0]=10"
   ]
  },
  {
   "cell_type": "markdown",
   "id": "f3836599-fcd9-456e-a8bf-3ae83c0ee653",
   "metadata": {},
   "source": [
    "SET OPERATIONS"
   ]
  },
  {
   "cell_type": "code",
   "execution_count": 19,
   "id": "4c004274-91d4-4228-b694-41602e581295",
   "metadata": {},
   "outputs": [],
   "source": [
    "my_set={1,2,3,4,5}"
   ]
  },
  {
   "cell_type": "code",
   "execution_count": 20,
   "id": "fda16b60-4bd2-41a2-87ea-bf7fe62df509",
   "metadata": {},
   "outputs": [],
   "source": [
    "my_set.remove(3)"
   ]
  },
  {
   "cell_type": "code",
   "execution_count": 21,
   "id": "a035cdf1-da26-4cf7-9548-917a03eaa5c5",
   "metadata": {},
   "outputs": [],
   "source": [
    "my_set.add(6)"
   ]
  },
  {
   "cell_type": "code",
   "execution_count": 22,
   "id": "b162a459-550a-4d07-a007-bd4409555454",
   "metadata": {},
   "outputs": [],
   "source": [
    "my_set.discard(1)"
   ]
  },
  {
   "cell_type": "code",
   "execution_count": 23,
   "id": "a9d15645-d460-4d8c-9e0f-0f177da9a194",
   "metadata": {},
   "outputs": [
    {
     "name": "stdout",
     "output_type": "stream",
     "text": [
      "{2, 4, 5, 6}\n"
     ]
    }
   ],
   "source": [
    "print(my_set)"
   ]
  },
  {
   "cell_type": "markdown",
   "id": "ec926742-dbbf-4a63-af7f-76e33ec52166",
   "metadata": {},
   "source": [
    "DICT OPERATIONS"
   ]
  },
  {
   "cell_type": "code",
   "execution_count": 28,
   "id": "5a2ee901-fe64-4ea4-9c1b-d7ded5dfa7fc",
   "metadata": {},
   "outputs": [],
   "source": [
    "my_dict={\"name\": \"John\",\"age\": 10,\"city\": \"vizag\"}"
   ]
  },
  {
   "cell_type": "code",
   "execution_count": 29,
   "id": "9b5c9978-4830-4eef-bc7a-b949a644770f",
   "metadata": {},
   "outputs": [],
   "source": [
    "my_dict[\"gender\"]=\"male\""
   ]
  },
  {
   "cell_type": "code",
   "execution_count": 30,
   "id": "1d3372fb-8825-471e-9dfa-435d8204ed58",
   "metadata": {},
   "outputs": [],
   "source": [
    "del my_dict[\"age\"]"
   ]
  },
  {
   "cell_type": "code",
   "execution_count": 31,
   "id": "5d59064f-12cd-4cde-b4ea-4bc648f5e9c8",
   "metadata": {},
   "outputs": [],
   "source": [
    "my_dict['city']='Hyd'"
   ]
  },
  {
   "cell_type": "code",
   "execution_count": 32,
   "id": "0ad040d2-9c75-47b7-a623-d4e0968ad442",
   "metadata": {},
   "outputs": [
    {
     "name": "stdout",
     "output_type": "stream",
     "text": [
      "{'name': 'John', 'city': 'Hyd', 'gender': 'male'}\n"
     ]
    }
   ],
   "source": [
    "print(my_dict)"
   ]
  }
 ],
 "metadata": {
  "kernelspec": {
   "display_name": "Python 3 (ipykernel)",
   "language": "python",
   "name": "python3"
  },
  "language_info": {
   "codemirror_mode": {
    "name": "ipython",
    "version": 3
   },
   "file_extension": ".py",
   "mimetype": "text/x-python",
   "name": "python",
   "nbconvert_exporter": "python",
   "pygments_lexer": "ipython3",
   "version": "3.11.7"
  }
 },
 "nbformat": 4,
 "nbformat_minor": 5
}
